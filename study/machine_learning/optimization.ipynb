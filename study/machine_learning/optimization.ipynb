{
 "cells": [
  {
   "cell_type": "code",
   "execution_count": 4,
   "source": [
    "import numpy as np\n",
    "import pandas as pd\n",
    "from math import *\n",
    "\n",
    "n = 3\n",
    "x = np.array([3, 5, 7])\n",
    "y = np.array([40, 50, 70])"
   ],
   "outputs": [],
   "metadata": {}
  },
  {
   "cell_type": "code",
   "execution_count": 32,
   "source": [
    "# 선형회귀함수\n",
    "def H(x, W):\n",
    "    a,b = W\n",
    "    return(a*x + b)\n",
    "\n",
    "# 손실함수\n",
    "def L(W):\n",
    "    a,b = W\n",
    "    return(((H(x, W)-y)**2).mean())\n",
    "\n",
    "def dL(W):\n",
    "    a,b = W\n",
    "    return np.array((2/3 * (83*a + 15*b - 860), 1/3 * (30*a + 6*b - 320)))\n",
    "\n",
    "def generate(W, h):\n",
    "    return (W-h*dL(W))"
   ],
   "outputs": [],
   "metadata": {}
  },
  {
   "cell_type": "code",
   "execution_count": 37,
   "source": [
    "W1 = np.array([10,20])\n",
    "print(W1, L(W1), dL(W1))\n",
    "W2 = generate(W1, 0.01)\n",
    "print(W2, L(W2), dL(W2))\n",
    "W3 = generate(W2, 0.01)\n",
    "print(W3, L(W3), dL(W3))"
   ],
   "outputs": [
    {
     "output_type": "stream",
     "name": "stdout",
     "text": [
      "[10 20] 300.0 [180.          33.33333333]\n",
      "[ 8.2        19.66666667] 60.64000000000002 [77.06666667 14.66666667]\n",
      "[ 7.42933333 19.52      ] 16.67998340740743 [32.95644444  6.66666667]\n"
     ]
    }
   ],
   "metadata": {}
  },
  {
   "cell_type": "code",
   "execution_count": null,
   "source": [
    "|"
   ],
   "outputs": [],
   "metadata": {}
  }
 ],
 "metadata": {
  "orig_nbformat": 4,
  "language_info": {
   "name": "python",
   "version": "3.9.5",
   "mimetype": "text/x-python",
   "codemirror_mode": {
    "name": "ipython",
    "version": 3
   },
   "pygments_lexer": "ipython3",
   "nbconvert_exporter": "python",
   "file_extension": ".py"
  },
  "kernelspec": {
   "name": "python3",
   "display_name": "Python 3.9.5 64-bit"
  },
  "interpreter": {
   "hash": "31f2aee4e71d21fbe5cf8b01ff0e069b9275f58929596ceb00d14d90e3e16cd6"
  }
 },
 "nbformat": 4,
 "nbformat_minor": 2
}