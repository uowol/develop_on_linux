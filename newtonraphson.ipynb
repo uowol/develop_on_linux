{
 "cells": [
  {
   "cell_type": "code",
   "execution_count": null,
   "metadata": {},
   "outputs": [],
   "source": [
    "# 2018580007 통계학과 김찬우"
   ]
  },
  {
   "cell_type": "code",
   "execution_count": 188,
   "metadata": {},
   "outputs": [],
   "source": [
    "import numpy as np\n",
    "import math\n",
    "\n",
    "n = 50\n",
    "theta = 0\n",
    "x = np.array([np.random.logistic(theta, 1) for _ in range(n)])"
   ]
  },
  {
   "cell_type": "markdown",
   "metadata": {},
   "source": [
    "### 미지의 모수 theta를 0으로 설정해주었습니다."
   ]
  },
  {
   "cell_type": "code",
   "execution_count": 190,
   "metadata": {},
   "outputs": [
    {
     "data": {
      "text/plain": [
       "(-12.702656498602082, -16.327065106060843)"
      ]
     },
     "execution_count": 190,
     "metadata": {},
     "output_type": "execute_result"
    }
   ],
   "source": [
    "def f(_x, _theta):\n",
    "    # return _theta**_x * np.exp(-_theta) / math.factorial(_x)\n",
    "    return np.exp(-_x+_theta)/((1+np.exp(-_x+_theta))**2)\n",
    "\n",
    "def g(_theta):\n",
    "    # return 22/_theta - 4\n",
    "    return n-2*np.sum([np.exp(-xi+_theta)/(1+np.exp(-xi+_theta)) for xi in x])\n",
    "\n",
    "def dg(_theta):\n",
    "    # return -22/(_theta**2)\n",
    "    return -2*np.sum([np.exp(-xi+_theta)/((1+np.exp(-xi+_theta))**2) for xi in x])\n",
    "\n",
    "g(1), dg(1)"
   ]
  },
  {
   "cell_type": "markdown",
   "metadata": {},
   "source": [
    "### 관측된 값 $x$와 임의의 $\\theta$로부터 f($x$;$\\theta$), g($\\theta$), g'($\\theta$)를 구해줍니다."
   ]
  },
  {
   "cell_type": "code",
   "execution_count": 198,
   "metadata": {},
   "outputs": [
    {
     "data": {
      "image/png": "[encoded data removed]",
      "text/plain": [
       "<Figure size 432x288 with 1 Axes>"
      ]
     },
     "metadata": {
      "needs_background": "light"
     },
     "output_type": "display_data"
    },
    {
     "data": {
      "image/png": "[encoded data removed]",
      "text/plain": [
       "<Figure size 432x288 with 1 Axes>"
      ]
     },
     "metadata": {
      "needs_background": "light"
     },
     "output_type": "display_data"
    }
   ],
   "source": [
    "import matplotlib.pyplot as plt\n",
    "\n",
    "plt.hist(x, density=True, histtype='step')\n",
    "plt.plot([_*0.1 for _ in range(-70, 70)], [f(_x*0.1, theta) for _x in range(-70, 70)], color='r')    # theta = 0\n",
    "plt.show()\n",
    "\n",
    "plt.plot([_*0.1 for _ in range(-70, 70)], [g(_theta*0.1) for _theta in range(-70, 70)])    # theta = 0\n",
    "plt.show()"
   ]
  },
  {
   "cell_type": "markdown",
   "metadata": {},
   "source": [
    "### 히스토그램을 그려보면, 실제 분포와 유사한 모양을 확인할 수 있습니다. 이 때, g($\\theta$)가 0이 되는 $\\hat\\theta$를 로지스틱분포의 가능도함수 L($\\theta$)의 최대가능도추정값으로 볼 수 있습니다."
   ]
  },
  {
   "cell_type": "code",
   "execution_count": 201,
   "metadata": {},
   "outputs": [
    {
     "name": "stdout",
     "output_type": "stream",
     "text": [
      "y: 4.443302335791188\n",
      "y: -0.010000989661293147\n",
      "y: 5.0340041468643903e-08\n",
      "theta_hat: 0.25446242200170016\n"
     ]
    }
   ],
   "source": [
    "def next(_theta):\n",
    "    return _theta-g(_theta)/dg(_theta)\n",
    "\n",
    "max_iterator_num = 1000\n",
    "def NewtonRaphson(_theta, iterator_num):\n",
    "    y = g(_theta)\n",
    "    print(\"y:\", y)\n",
    "    if(abs(y) < 1e-7 or iterator_num > max_iterator_num): return _theta\n",
    "    return NewtonRaphson(next(_theta), iterator_num+1)\n",
    "\n",
    "print('theta_hat:', NewtonRaphson(0, 0))"
   ]
  },
  {
   "cell_type": "markdown",
   "metadata": {},
   "source": [
    "### 정확하지는 않지만 모수인 $\\theta=0$과 가까운 최대가능도추정값 $\\hat\\theta$을 50개의 표본으로부터 구할 수 있습니다."
   ]
  },
  {
   "cell_type": "code",
   "execution_count": null,
   "metadata": {},
   "outputs": [],
   "source": []
  }
 ],
 "metadata": {
  "interpreter": {
   "hash": "7673e4597073c2b2a9e6d5d234cbcc5f3dad170bf820db45c930adc5f513900b"
  },
  "kernelspec": {
   "display_name": "Python 3",
   "language": "python",
   "name": "python3"
  },
  "language_info": {
   "codemirror_mode": {
    "name": "ipython",
    "version": 3
   },
   "file_extension": ".py",
   "mimetype": "text/x-python",
   "name": "python",
   "nbconvert_exporter": "python",
   "pygments_lexer": "ipython3",
   "version": "3.8.5"
  }
 },
 "nbformat": 4,
 "nbformat_minor": 2
}
